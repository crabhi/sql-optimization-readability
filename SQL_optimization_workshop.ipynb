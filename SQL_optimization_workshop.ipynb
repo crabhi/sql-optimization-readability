{
 "cells": [
  {
   "cell_type": "markdown",
   "metadata": {
    "slideshow": {
     "slide_type": "slide"
    }
   },
   "source": [
    "# Pokročilé SQL\n",
    "#### Struktura a optimalizace"
   ]
  },
  {
   "cell_type": "markdown",
   "metadata": {
    "slideshow": {
     "slide_type": "slide"
    }
   },
   "source": [
    "# Testovací databáze\n",
    "\n",
    "Nástroj `pgbench` přímo s Postgresem."
   ]
  },
  {
   "cell_type": "code",
   "execution_count": null,
   "metadata": {
    "scrolled": true,
    "slideshow": {
     "slide_type": "fragment"
    }
   },
   "outputs": [],
   "source": [
    "!echo \"CREATE DATABASE dbtest;\" | psql postgres\n",
    "!pgbench -i -s 10 dbtest\n",
    "\n",
    "!pgbench -T 30 -c 4 dbtest"
   ]
  },
  {
   "cell_type": "code",
   "execution_count": 22,
   "metadata": {
    "slideshow": {
     "slide_type": "subslide"
    }
   },
   "outputs": [
    {
     "name": "stdout",
     "output_type": "stream",
     "text": [
      "The sql extension is already loaded. To reload it, use:\n",
      "  %reload_ext sql\n"
     ]
    }
   ],
   "source": [
    "import sqlalchemy\n",
    "import pandas\n",
    "\n",
    "eng = sqlalchemy.create_engine(\"postgresql:///dbtest\")\n",
    "\n",
    "def explain(query, extra=[]):\n",
    "    keywords = [\"EXPLAIN\"] + extra\n",
    "    for line, in eng.execute(\" \".join(keywords) + \" \" + query):\n",
    "        print(line)\n",
    "        \n",
    "def explain_analyze(q):\n",
    "    return explain(q, [\"ANALYZE\"])\n",
    "        \n",
    "def sql(query):\n",
    "    return pandas.read_sql_query(query, eng)\n",
    "\n",
    "%load_ext sql\n",
    "%sql postgresql:///dbtest\n",
    "%config SqlMagic.autopandas = True\n",
    "%config SqlMagic.feedback = False\n",
    "%config SqlMagic.style = \"PLAIN_COLUMNS\""
   ]
  },
  {
   "cell_type": "code",
   "execution_count": 2,
   "metadata": {
    "slideshow": {
     "slide_type": "subslide"
    }
   },
   "outputs": [
    {
     "name": "stdout",
     "output_type": "stream",
     "text": [
      "              Table \"public.pgbench_accounts\"\n",
      "  Column  |     Type      | Collation | Nullable | Default \n",
      "----------+---------------+-----------+----------+---------\n",
      " aid      | integer       |           | not null | \n",
      " bid      | integer       |           |          | \n",
      " abalance | integer       |           |          | \n",
      " filler   | character(84) |           |          | \n",
      "Indexes:\n",
      "    \"pgbench_accounts_pkey\" PRIMARY KEY, btree (aid)\n",
      "\n",
      "\n",
      "                    Table \"public.pgbench_history\"\n",
      " Column |            Type             | Collation | Nullable | Default \n",
      "--------+-----------------------------+-----------+----------+---------\n",
      " tid    | integer                     |           |          | \n",
      " bid    | integer                     |           |          | \n",
      " aid    | integer                     |           |          | \n",
      " delta  | integer                     |           |          | \n",
      " mtime  | timestamp without time zone |           |          | \n",
      " filler | character(22)               |           |          | \n",
      "\n"
     ]
    }
   ],
   "source": [
    "!echo \"\\d pgbench_accounts\" | psql dbtest\n",
    "!echo\n",
    "!echo \"\\d pgbench_history\" | psql dbtest"
   ]
  },
  {
   "cell_type": "code",
   "execution_count": 3,
   "metadata": {
    "slideshow": {
     "slide_type": "subslide"
    }
   },
   "outputs": [
    {
     "name": "stdout",
     "output_type": "stream",
     "text": [
      "              Table \"public.pgbench_branches\"\n",
      "  Column  |     Type      | Collation | Nullable | Default \n",
      "----------+---------------+-----------+----------+---------\n",
      " bid      | integer       |           | not null | \n",
      " bbalance | integer       |           |          | \n",
      " filler   | character(88) |           |          | \n",
      "Indexes:\n",
      "    \"pgbench_branches_pkey\" PRIMARY KEY, btree (bid)\n",
      "\n",
      "\n",
      "              Table \"public.pgbench_tellers\"\n",
      "  Column  |     Type      | Collation | Nullable | Default \n",
      "----------+---------------+-----------+----------+---------\n",
      " tid      | integer       |           | not null | \n",
      " bid      | integer       |           |          | \n",
      " tbalance | integer       |           |          | \n",
      " filler   | character(84) |           |          | \n",
      "Indexes:\n",
      "    \"pgbench_tellers_pkey\" PRIMARY KEY, btree (tid)\n",
      "\n"
     ]
    }
   ],
   "source": [
    "!echo \"\\d pgbench_branches\" | psql dbtest\n",
    "!echo\n",
    "!echo \"\\d pgbench_tellers\" | psql dbtest"
   ]
  },
  {
   "cell_type": "markdown",
   "metadata": {
    "slideshow": {
     "slide_type": "slide"
    }
   },
   "source": [
    "# Sequential scan\n",
    "\n",
    "Jde řádek po řádku přes celou tabulku."
   ]
  },
  {
   "cell_type": "code",
   "execution_count": 23,
   "metadata": {
    "slideshow": {
     "slide_type": "fragment"
    }
   },
   "outputs": [
    {
     "name": "stdout",
     "output_type": "stream",
     "text": [
      " * postgresql:///dbtest\n",
      "Seq Scan on pgbench_accounts  (cost=0.00..29171.00 rows=125271 width=97)\n",
      "  Filter: (abalance > 0)\n"
     ]
    }
   ],
   "source": [
    "result = %sql EXPLAIN SELECT * FROM pgbench_accounts WHERE abalance > 0\n",
    "\n",
    "for row in result.iloc[:,0]: print(row)"
   ]
  },
  {
   "cell_type": "code",
   "execution_count": 5,
   "metadata": {
    "slideshow": {
     "slide_type": "subslide"
    }
   },
   "outputs": [
    {
     "name": "stdout",
     "output_type": "stream",
     "text": [
      " * postgresql:///dbtest\n"
     ]
    },
    {
     "data": {
      "text/html": [
       "<div>\n",
       "<table border=\"1\" class=\"dataframe\">\n",
       "  <thead>\n",
       "    <tr style=\"text-align: right;\">\n",
       "      <th></th>\n",
       "      <th>aid</th>\n",
       "      <th>bid</th>\n",
       "      <th>abalance</th>\n",
       "      <th>filler</th>\n",
       "    </tr>\n",
       "  </thead>\n",
       "  <tbody>\n",
       "    <tr>\n",
       "      <th>0</th>\n",
       "      <td>50</td>\n",
       "      <td>1</td>\n",
       "      <td>3382</td>\n",
       "      <td>...</td>\n",
       "    </tr>\n",
       "    <tr>\n",
       "      <th>1</th>\n",
       "      <td>58</td>\n",
       "      <td>1</td>\n",
       "      <td>679</td>\n",
       "      <td>...</td>\n",
       "    </tr>\n",
       "    <tr>\n",
       "      <th>2</th>\n",
       "      <td>27</td>\n",
       "      <td>1</td>\n",
       "      <td>4816</td>\n",
       "      <td>...</td>\n",
       "    </tr>\n",
       "    <tr>\n",
       "      <th>3</th>\n",
       "      <td>55</td>\n",
       "      <td>1</td>\n",
       "      <td>2010</td>\n",
       "      <td>...</td>\n",
       "    </tr>\n",
       "    <tr>\n",
       "      <th>4</th>\n",
       "      <td>45</td>\n",
       "      <td>1</td>\n",
       "      <td>2044</td>\n",
       "      <td>...</td>\n",
       "    </tr>\n",
       "  </tbody>\n",
       "</table>\n",
       "</div>"
      ],
      "text/plain": [
       "   aid  bid  abalance                                             filler\n",
       "0   50    1      3382                                                ...\n",
       "1   58    1       679                                                ...\n",
       "2   27    1      4816                                                ...\n",
       "3   55    1      2010                                                ...\n",
       "4   45    1      2044                                                ..."
      ]
     },
     "execution_count": 5,
     "metadata": {},
     "output_type": "execute_result"
    }
   ],
   "source": [
    "df = %sql SELECT * FROM pgbench_accounts WHERE abalance > 0\n",
    "df.head()"
   ]
  },
  {
   "cell_type": "markdown",
   "metadata": {
    "slideshow": {
     "slide_type": "slide"
    }
   },
   "source": [
    "# Explain vs Explain Analyze"
   ]
  },
  {
   "cell_type": "code",
   "execution_count": 52,
   "metadata": {
    "slideshow": {
     "slide_type": "subslide"
    }
   },
   "outputs": [
    {
     "name": "stdout",
     "output_type": "stream",
     "text": [
      " * postgresql:///dbtest\n",
      "Seq Scan on pgbench_accounts  (cost=0.00..29171.00 rows=125271 width=97)\n",
      "  Filter: (abalance > 0)\n"
     ]
    }
   ],
   "source": [
    "r = %sql EXPLAIN SELECT * FROM pgbench_accounts WHERE abalance > 0\n",
    "for row in r.iloc[:,0]: print(row)\n"
   ]
  },
  {
   "cell_type": "code",
   "execution_count": 53,
   "metadata": {
    "slideshow": {
     "slide_type": "subslide"
    }
   },
   "outputs": [
    {
     "name": "stdout",
     "output_type": "stream",
     "text": [
      " * postgresql:///dbtest\n",
      "Seq Scan on pgbench_accounts  (cost=0.00..29171.00 rows=125271 width=97) (actual time=0.015..102.513 rows=122394 loops=1)\n",
      "  Filter: (abalance > 0)\n",
      "  Rows Removed by Filter: 877606\n",
      "Planning time: 0.057 ms\n",
      "Execution time: 106.263 ms\n"
     ]
    }
   ],
   "source": [
    "r = %sql EXPLAIN ANALYZE SELECT * FROM pgbench_accounts WHERE abalance > 0\n",
    "for row in r.iloc[:,0]: print(row)"
   ]
  },
  {
   "cell_type": "markdown",
   "metadata": {
    "slideshow": {
     "slide_type": "slide"
    }
   },
   "source": [
    "# View\n",
    "\n",
    "* Jen definice SQL dotazu\n",
    "* Čitelnost\n",
    "* Dotaz `SELECT x FROM myview WHERE y` se přeloží na\n",
    "\n",
    "```sql\n",
    "SELECT x\n",
    "FROM ( .... definice view ... ) myview\n",
    "WHERE y\n",
    "```"
   ]
  },
  {
   "cell_type": "code",
   "execution_count": 75,
   "metadata": {
    "slideshow": {
     "slide_type": "fragment"
    }
   },
   "outputs": [
    {
     "name": "stdout",
     "output_type": "stream",
     "text": [
      " * postgresql:///dbtest\n",
      " * postgresql:///dbtest\n",
      "Seq Scan on pgbench_accounts  (cost=0.00..29171.00 rows=125271 width=97) (actual time=0.012..77.139 rows=122394 loops=1)\n",
      "  Filter: (abalance > 0)\n",
      "  Rows Removed by Filter: 877606\n",
      "Planning time: 0.059 ms\n",
      "Execution time: 80.214 ms\n"
     ]
    }
   ],
   "source": [
    "%sql CREATE OR REPLACE VIEW positive_accounts AS SELECT * FROM pgbench_accounts WHERE abalance > 0;\n",
    "\n",
    "result = %sql EXPLAIN ANALYZE SELECT * FROM positive_accounts\n",
    "for row in result[\"QUERY PLAN\"]:\n",
    "    print(row)"
   ]
  },
  {
   "cell_type": "markdown",
   "metadata": {
    "slideshow": {
     "slide_type": "slide"
    }
   },
   "source": [
    "# Index nad jedním sloupcem\n",
    "\n",
    "* B-tree (default)\n",
    "    * binární vyhledávací strom\n",
    "* hash\n",
    "    * hash tabulka, tj. v Pythonu `dict`\n",
    "* GIST\n",
    "    * \"plugin\" indexy - např. PostGIS přidává indexy pro geografická data\n",
    "* SP-GIST\n",
    "    * Další speciální indexy (prohledávání prostoru, trie)\n",
    "* GIN\n",
    "    * Invertované indexy.\n",
    "        * Záznam běžného indexu: dokument 1 obsahuje slova \"šel\", \"Honza\", \"buchty\"\n",
    "        * Záznam invertovaného indexu: slovo \"buchty\" je v dokumentech 1, 78 a 222"
   ]
  },
  {
   "cell_type": "code",
   "execution_count": 24,
   "metadata": {
    "slideshow": {
     "slide_type": "subslide"
    }
   },
   "outputs": [
    {
     "name": "stdout",
     "output_type": "stream",
     "text": [
      " * postgresql:///dbtest\n"
     ]
    },
    {
     "data": {
      "text/html": [
       "<div>\n",
       "<table border=\"1\" class=\"dataframe\">\n",
       "  <thead>\n",
       "    <tr style=\"text-align: right;\">\n",
       "      <th></th>\n",
       "    </tr>\n",
       "  </thead>\n",
       "  <tbody>\n",
       "  </tbody>\n",
       "</table>\n",
       "</div>"
      ],
      "text/plain": [
       "Empty DataFrame\n",
       "Columns: []\n",
       "Index: []"
      ]
     },
     "execution_count": 24,
     "metadata": {},
     "output_type": "execute_result"
    }
   ],
   "source": [
    "%%sql\n",
    "\n",
    "DROP TABLE IF EXISTS pgbench_accounts_indexed;\n",
    "CREATE TEMPORARY TABLE pgbench_accounts_indexed AS SELECT * FROM pgbench_accounts;"
   ]
  },
  {
   "cell_type": "code",
   "execution_count": 25,
   "metadata": {
    "slideshow": {
     "slide_type": "fragment"
    }
   },
   "outputs": [
    {
     "name": "stdout",
     "output_type": "stream",
     "text": [
      " * postgresql:///dbtest\n",
      "CPU times: user 3.91 ms, sys: 0 ns, total: 3.91 ms\n",
      "Wall time: 561 ms\n"
     ]
    },
    {
     "data": {
      "text/html": [
       "<div>\n",
       "<table border=\"1\" class=\"dataframe\">\n",
       "  <thead>\n",
       "    <tr style=\"text-align: right;\">\n",
       "      <th></th>\n",
       "    </tr>\n",
       "  </thead>\n",
       "  <tbody>\n",
       "  </tbody>\n",
       "</table>\n",
       "</div>"
      ],
      "text/plain": [
       "Empty DataFrame\n",
       "Columns: []\n",
       "Index: []"
      ]
     },
     "execution_count": 25,
     "metadata": {},
     "output_type": "execute_result"
    }
   ],
   "source": [
    "%%time\n",
    "%sql CREATE INDEX pgbench_accounts_indexed_abalance ON pgbench_accounts_indexed (abalance);"
   ]
  },
  {
   "cell_type": "code",
   "execution_count": 26,
   "metadata": {
    "slideshow": {
     "slide_type": "subslide"
    }
   },
   "outputs": [
    {
     "name": "stdout",
     "output_type": "stream",
     "text": [
      " * postgresql:///dbtest\n",
      "Bitmap Heap Scan on pgbench_accounts_indexed  (cost=3590.26..24150.92 rows=333333 width=352) (actual time=12.980..74.161 rows=122394 loops=1)\n",
      "  Recheck Cond: (abalance > 0)\n",
      "  Heap Blocks: exact=16383\n",
      "  ->  Bitmap Index Scan on pgbench_accounts_indexed_abalance  (cost=0.00..3506.92 rows=333333 width=0) (actual time=10.759..10.759 rows=122394 loops=1)\n",
      "        Index Cond: (abalance > 0)\n",
      "Planning time: 0.287 ms\n",
      "Execution time: 77.481 ms\n"
     ]
    }
   ],
   "source": [
    "result = %sql EXPLAIN ANALYZE SELECT * FROM pgbench_accounts_indexed WHERE abalance > 0\n",
    "\n",
    "for row in result[\"QUERY PLAN\"]:\n",
    "    print(row)"
   ]
  },
  {
   "cell_type": "code",
   "execution_count": 41,
   "metadata": {
    "slideshow": {
     "slide_type": "subslide"
    }
   },
   "outputs": [
    {
     "name": "stdout",
     "output_type": "stream",
     "text": [
      " * postgresql:///dbtest\n",
      "Bitmap Heap Scan on pgbench_accounts_indexed  (cost=3590.26..24150.92 rows=333333 width=352) (actual time=0.013..0.014 rows=0 loops=1)\n",
      "  Recheck Cond: (abalance > 999999999)\n",
      "  ->  Bitmap Index Scan on pgbench_accounts_indexed_abalance  (cost=0.00..3506.92 rows=333333 width=0) (actual time=0.012..0.012 rows=0 loops=1)\n",
      "        Index Cond: (abalance > 999999999)\n",
      "Planning time: 0.056 ms\n",
      "Execution time: 0.037 ms\n"
     ]
    }
   ],
   "source": [
    "result = %sql EXPLAIN ANALYZE SELECT * FROM pgbench_accounts_indexed WHERE abalance > 999999999\n",
    "for row in result[\"QUERY PLAN\"]:\n",
    "    print(row)"
   ]
  },
  {
   "cell_type": "code",
   "execution_count": 40,
   "metadata": {
    "slideshow": {
     "slide_type": "subslide"
    }
   },
   "outputs": [
    {
     "name": "stdout",
     "output_type": "stream",
     "text": [
      " * postgresql:///dbtest\n",
      "Gather  (cost=1000.00..22881.73 rows=24 width=97) (actual time=45.239..49.543 rows=0 loops=1)\n",
      "  Workers Planned: 2\n",
      "  Workers Launched: 2\n",
      "  ->  Parallel Seq Scan on pgbench_accounts  (cost=0.00..21879.33 rows=10 width=97) (actual time=43.068..43.068 rows=0 loops=3)\n",
      "        Filter: (abalance > 999999999)\n",
      "        Rows Removed by Filter: 333333\n",
      "Planning time: 0.072 ms\n",
      "Execution time: 49.570 ms\n"
     ]
    }
   ],
   "source": [
    "result = %sql EXPLAIN ANALYZE SELECT * FROM pgbench_accounts WHERE abalance > 999999999\n",
    "for row in result[\"QUERY PLAN\"]:\n",
    "    print(row)"
   ]
  },
  {
   "cell_type": "markdown",
   "metadata": {
    "slideshow": {
     "slide_type": "slide"
    }
   },
   "source": [
    "# Optimalizátor\n",
    "\n",
    "* Počítá si statistiky\n",
    "    * Příkaz `ANALYZE` nebo periodicky na pozadí s `VACUUM` podle nastavení databáze.\n",
    "* Dokáže spojit více kroků nebo rozdělit práci.\n",
    "* Ne vždy mu dojde, že dělá nesmysl.\n",
    "\n",
    "_Připomínka:_ \n",
    "```sql\n",
    "CREATE VIEW positive_accounts AS \n",
    "SELECT * FROM pgbench_accounts WHERE abalance > 0\n",
    "```"
   ]
  },
  {
   "cell_type": "code",
   "execution_count": 36,
   "metadata": {
    "slideshow": {
     "slide_type": "fragment"
    }
   },
   "outputs": [
    {
     "name": "stdout",
     "output_type": "stream",
     "text": [
      "Gather  (cost=1000.00..24421.00 rows=5000 width=97)\n",
      "  Workers Planned: 2\n",
      "  ->  Parallel Seq Scan on pgbench_accounts  (cost=0.00..22921.00 rows=2083 width=97)\n",
      "        Filter: ((abalance > 0) AND (abalance < 0))\n"
     ]
    }
   ],
   "source": [
    "explain(\"SELECT * FROM positive_accounts WHERE abalance < 0\")"
   ]
  },
  {
   "cell_type": "code",
   "execution_count": 61,
   "metadata": {
    "slideshow": {
     "slide_type": "subslide"
    }
   },
   "outputs": [
    {
     "name": "stdout",
     "output_type": "stream",
     "text": [
      " * postgresql:///dbtest\n",
      "Bitmap Heap Scan on pgbench_accounts_indexed  (cost=67.08..4691.75 rows=5000 width=352)\n",
      "  Recheck Cond: ((abalance < 0) AND (abalance > 0))\n",
      "  ->  Bitmap Index Scan on pgbench_accounts_indexed_abalance  (cost=0.00..65.83 rows=5000 width=0)\n",
      "        Index Cond: ((abalance < 0) AND (abalance > 0))\n"
     ]
    }
   ],
   "source": [
    "result = %sql EXPLAIN SELECT * FROM pgbench_accounts_indexed WHERE abalance < 0 AND abalance > 0\n",
    "for row in result[\"QUERY PLAN\"]:\n",
    "    print(row)"
   ]
  },
  {
   "cell_type": "markdown",
   "metadata": {
    "slideshow": {
     "slide_type": "subslide"
    }
   },
   "source": [
    "# Index Scan vs Bitmap Index Scan\n",
    "\n",
    "* Optimalizátor se rozhoduje, co kdy zvolí.\n",
    "\n",
    "* Část řádků je potřeba odfiltrovat, ale hodně zbyde => Bitmap Index Scan\n",
    "* Zaměření na málo konkrétních řádků => Index Scan (typicky dotaz na řádek podle unikátního klíče)."
   ]
  },
  {
   "cell_type": "code",
   "execution_count": 62,
   "metadata": {
    "slideshow": {
     "slide_type": "fragment"
    }
   },
   "outputs": [
    {
     "name": "stdout",
     "output_type": "stream",
     "text": [
      " * postgresql:///dbtest\n",
      "Index Scan using pgbench_accounts_pkey on pgbench_accounts  (cost=0.42..2.64 rows=1 width=97) (actual time=0.017..0.018 rows=1 loops=1)\n",
      "  Index Cond: (aid = 445)\n",
      "Planning time: 0.071 ms\n",
      "Execution time: 0.038 ms\n"
     ]
    }
   ],
   "source": [
    "result = %sql EXPLAIN ANALYZE SELECT * FROM pgbench_accounts WHERE aid = 445\n",
    "\n",
    "for row in result[\"QUERY PLAN\"]:\n",
    "    print(row)"
   ]
  },
  {
   "cell_type": "markdown",
   "metadata": {
    "slideshow": {
     "slide_type": "slide"
    }
   },
   "source": [
    "# Joiny\n",
    "\n",
    "* Optimalizátoru je jedno, jestli píšete\n",
    "```\n",
    "FROM a, b, c\n",
    "WHERE a.id = b.aid AND c.bid = b.id\n",
    "```\n",
    "* Nebo\n",
    "```\n",
    "FROM a\n",
    "    INNER JOIN b ON a.id = b.aid\n",
    "    INNER JOIN c ON c.bid = b.id\n",
    "```\n"
   ]
  },
  {
   "cell_type": "markdown",
   "metadata": {
    "slideshow": {
     "slide_type": "subslide"
    }
   },
   "source": [
    "## Na pořadí JOINů může a taky nemusí záležet.\n",
    "\n",
    "* `join_collapse_limit`\n",
    "* `SET join_collapse_limit = x` jej nastaví pro aktuální spojení.\n",
    "* Větší hodnota znamená delší plánování, ale potenciálně lepší výsledek.\n",
    "     * Ale jestli se databáze u vašeho dotazu zasekne už na `EXPLAIN` (ne `EXPLAIN ANALYZE`), možná je moc nastavený moc vysoko."
   ]
  },
  {
   "cell_type": "code",
   "execution_count": 66,
   "metadata": {
    "slideshow": {
     "slide_type": "fragment"
    }
   },
   "outputs": [
    {
     "name": "stdout",
     "output_type": "stream",
     "text": [
      " * postgresql:///dbtest\n"
     ]
    },
    {
     "data": {
      "text/html": [
       "<div>\n",
       "<table border=\"1\" class=\"dataframe\">\n",
       "  <thead>\n",
       "    <tr style=\"text-align: right;\">\n",
       "      <th></th>\n",
       "      <th>join_collapse_limit</th>\n",
       "    </tr>\n",
       "  </thead>\n",
       "  <tbody>\n",
       "    <tr>\n",
       "      <th>0</th>\n",
       "      <td>8</td>\n",
       "    </tr>\n",
       "  </tbody>\n",
       "</table>\n",
       "</div>"
      ],
      "text/plain": [
       "  join_collapse_limit\n",
       "0                   8"
      ]
     },
     "execution_count": 66,
     "metadata": {},
     "output_type": "execute_result"
    }
   ],
   "source": [
    "%sql SHOW join_collapse_limit"
   ]
  },
  {
   "cell_type": "code",
   "execution_count": 69,
   "metadata": {
    "slideshow": {
     "slide_type": "subslide"
    }
   },
   "outputs": [
    {
     "name": "stdout",
     "output_type": "stream",
     "text": [
      " * postgresql:///dbtest\n",
      " * postgresql:///dbtest\n"
     ]
    },
    {
     "data": {
      "text/html": [
       "<div>\n",
       "<table border=\"1\" class=\"dataframe\">\n",
       "  <thead>\n",
       "    <tr style=\"text-align: right;\">\n",
       "      <th></th>\n",
       "      <th>join_collapse_limit</th>\n",
       "    </tr>\n",
       "  </thead>\n",
       "  <tbody>\n",
       "    <tr>\n",
       "      <th>0</th>\n",
       "      <td>10</td>\n",
       "    </tr>\n",
       "  </tbody>\n",
       "</table>\n",
       "</div>"
      ],
      "text/plain": [
       "  join_collapse_limit\n",
       "0                  10"
      ]
     },
     "execution_count": 69,
     "metadata": {},
     "output_type": "execute_result"
    }
   ],
   "source": [
    "%sql SET join_collapse_limit = 10\n",
    "%sql SHOW join_collapse_limit"
   ]
  },
  {
   "cell_type": "code",
   "execution_count": 70,
   "metadata": {
    "slideshow": {
     "slide_type": "subslide"
    }
   },
   "outputs": [
    {
     "name": "stdout",
     "output_type": "stream",
     "text": [
      " * postgresql:///dbtest\n"
     ]
    },
    {
     "data": {
      "text/html": [
       "<div>\n",
       "<table border=\"1\" class=\"dataframe\">\n",
       "  <thead>\n",
       "    <tr style=\"text-align: right;\">\n",
       "      <th></th>\n",
       "    </tr>\n",
       "  </thead>\n",
       "  <tbody>\n",
       "  </tbody>\n",
       "</table>\n",
       "</div>"
      ],
      "text/plain": [
       "Empty DataFrame\n",
       "Columns: []\n",
       "Index: []"
      ]
     },
     "execution_count": 70,
     "metadata": {},
     "output_type": "execute_result"
    }
   ],
   "source": [
    "%%sql\n",
    "CREATE OR REPLACE VIEW transactions AS \n",
    "SELECT aid, tid, pgbench_branches.bid, tbalance, delta, mtime, abalance\n",
    "    FROM pgbench_history\n",
    "        LEFT JOIN pgbench_tellers USING (tid)\n",
    "        LEFT JOIN pgbench_accounts USING (aid)\n",
    "        LEFT JOIN pgbench_branches ON pgbench_history.bid = pgbench_branches.bid"
   ]
  },
  {
   "cell_type": "code",
   "execution_count": 73,
   "metadata": {
    "slideshow": {
     "slide_type": "subslide"
    }
   },
   "outputs": [
    {
     "name": "stdout",
     "output_type": "stream",
     "text": [
      "Hash Left Join  (cost=39198.47..46334.62 rows=280131 width=32)\n",
      "  Hash Cond: (pgbench_history.bid = pgbench_branches.bid)\n",
      "  ->  Hash Left Join  (cost=39197.25..45286.41 rows=280131 width=32)\n",
      "        Hash Cond: (pgbench_history.aid = pgbench_accounts.aid)\n",
      "        ->  Hash Left Join  (cost=26.25..5380.07 rows=280131 width=28)\n",
      "              Hash Cond: (pgbench_history.tid = pgbench_tellers.tid)\n",
      "              ->  Seq Scan on pgbench_history  (cost=0.00..4587.31 rows=280131 width=24)\n",
      "              ->  Hash  (cost=25.00..25.00 rows=100 width=8)\n",
      "                    ->  Seq Scan on pgbench_tellers  (cost=0.00..25.00 rows=100 width=8)\n",
      "        ->  Hash  (cost=26671.00..26671.00 rows=1000000 width=8)\n",
      "              ->  Seq Scan on pgbench_accounts  (cost=0.00..26671.00 rows=1000000 width=8)\n",
      "  ->  Hash  (cost=1.10..1.10 rows=10 width=4)\n",
      "        ->  Seq Scan on pgbench_branches  (cost=0.00..1.10 rows=10 width=4)\n"
     ]
    }
   ],
   "source": [
    "explain(\"SELECT * FROM transactions\")"
   ]
  },
  {
   "cell_type": "code",
   "execution_count": 72,
   "metadata": {
    "slideshow": {
     "slide_type": "subslide"
    }
   },
   "outputs": [
    {
     "name": "stdout",
     "output_type": "stream",
     "text": [
      "Seq Scan on pgbench_history  (cost=0.00..4587.31 rows=280131 width=4) (actual time=0.020..24.504 rows=280131 loops=1)\n",
      "Planning time: 0.215 ms\n",
      "Execution time: 31.925 ms\n"
     ]
    }
   ],
   "source": [
    "explain_analyze(\"SELECT tid FROM transactions\")"
   ]
  },
  {
   "cell_type": "markdown",
   "metadata": {
    "slideshow": {
     "slide_type": "slide"
    }
   },
   "source": [
    "# Funkce\n",
    "\n",
    "* Čitelnost\n",
    "* Méně chyb\n",
    "    * Lépe se testuje\n",
    "    * Definice logiky na jednom místě\n",
    "\n",
    "Mimochodem: [pgTAP: unit testing v Postgresu](https://pgtap.org/)"
   ]
  },
  {
   "cell_type": "code",
   "execution_count": 98,
   "metadata": {
    "slideshow": {
     "slide_type": "subslide"
    }
   },
   "outputs": [
    {
     "name": "stdout",
     "output_type": "stream",
     "text": [
      " * postgresql:///dbtest\n"
     ]
    },
    {
     "data": {
      "text/html": [
       "<div>\n",
       "<table border=\"1\" class=\"dataframe\">\n",
       "  <thead>\n",
       "    <tr style=\"text-align: right;\">\n",
       "      <th></th>\n",
       "      <th>val</th>\n",
       "      <th>has_money</th>\n",
       "    </tr>\n",
       "  </thead>\n",
       "  <tbody>\n",
       "    <tr>\n",
       "      <th>0</th>\n",
       "      <td>-5</td>\n",
       "      <td>no chance</td>\n",
       "    </tr>\n",
       "    <tr>\n",
       "      <th>1</th>\n",
       "      <td>887</td>\n",
       "      <td>boring</td>\n",
       "    </tr>\n",
       "    <tr>\n",
       "      <th>2</th>\n",
       "      <td>1000000</td>\n",
       "      <td>oh boy!</td>\n",
       "    </tr>\n",
       "  </tbody>\n",
       "</table>\n",
       "</div>"
      ],
      "text/plain": [
       "       val  has_money\n",
       "0       -5  no chance\n",
       "1      887     boring\n",
       "2  1000000    oh boy!"
      ]
     },
     "execution_count": 98,
     "metadata": {},
     "output_type": "execute_result"
    }
   ],
   "source": [
    "%%sql\n",
    "CREATE OR REPLACE FUNCTION has_money(in balance numeric) RETURNS varchar AS $$ \n",
    "    SELECT CASE WHEN balance <= 0 THEN 'no chance'\n",
    "                WHEN balance > 10000 THEN 'oh boy!'\n",
    "                ELSE 'boring'\n",
    "            END;\n",
    "    $$ LANGUAGE SQL;\n",
    "\n",
    "SELECT val, has_money(val) FROM (VALUES (-5), (887), (1000000)) vals(val);"
   ]
  },
  {
   "cell_type": "code",
   "execution_count": 100,
   "metadata": {
    "slideshow": {
     "slide_type": "subslide"
    }
   },
   "outputs": [
    {
     "name": "stdout",
     "output_type": "stream",
     "text": [
      " * postgresql:///dbtest\n",
      "Seq Scan on pgbench_accounts  (cost=0.00..36671.00 rows=626 width=97)\n",
      "  Filter: ((abalance > 0) AND ((CASE WHEN (abalance <= 0) THEN 'no chance'::text WHEN (abalance > 10000) THEN 'oh boy!'::text ELSE 'boring'::text END)::text = 'oh boy!'::text))\n"
     ]
    }
   ],
   "source": [
    "result = %sql EXPLAIN SELECT * FROM positive_accounts WHERE has_money(abalance) = 'oh boy!';\n",
    "\n",
    "for row in result[\"QUERY PLAN\"]:\n",
    "    print(row)"
   ]
  },
  {
   "cell_type": "markdown",
   "metadata": {
    "slideshow": {
     "slide_type": "subslide"
    }
   },
   "source": [
    "## Nápovědy pro optimalizátor\n",
    "\n",
    "Funkce může být označena jako\n",
    "\n",
    "* `IMMUTABLE` - funkce vždy vrátí stejnou hodnotu, když ji zavolám se stejnými parametry\n",
    "    * Např. naše `has_money`\n",
    "* `STABLE` - skoro IMMUTABLE, ale hodnota se může měnit mezi SQL dotazy.\n",
    "    * Např. závisí na nastavení databáze, dělá dotaz do nějaké tabulky.\n",
    "* `VOLATILE` - default, může si dělat cokoliv a nebude optimalizátorem zjednodušena, ani vyhozena\n",
    "\n",
    "Další nápovědy:\n",
    "\n",
    "* `COST` - pro ne-SQL funknce odhadnutí jak složité je spočítat jedno zavolání (v relativních jednotkách)\n",
    "* `ROWS` - pro funkce vracející řádky - kolik řádků zhruba vrátí"
   ]
  },
  {
   "cell_type": "markdown",
   "metadata": {
    "slideshow": {
     "slide_type": "slide"
    }
   },
   "source": [
    "# Složitější indexy\n",
    "\n",
    "* Přes více sloupců\n",
    "    * Vždy jen v rámci jedné tabulky\n",
    "        * Ale `MATERIALIZED VIEW` je jedna tabulka\n",
    "        * `TEMPORARY TABLE AS (SELECT ...)` je také jedna tabulka"
   ]
  },
  {
   "cell_type": "code",
   "execution_count": 150,
   "metadata": {
    "slideshow": {
     "slide_type": "subslide"
    }
   },
   "outputs": [
    {
     "name": "stdout",
     "output_type": "stream",
     "text": [
      " * postgresql:///dbtest\n",
      "Hash Join  (cost=1.57..12353.82 rows=55964 width=457)\n",
      "  Hash Cond: (pgbench_accounts.bid = pgbench_branches.bid)\n",
      "  ->  Index Scan using pgbench_accounts_pkey on pgbench_accounts  (cost=0.42..11306.85 rows=279819 width=97)\n",
      "        Index Cond: (aid > 720001)\n",
      "  ->  Hash  (cost=1.12..1.12 rows=2 width=364)\n",
      "        ->  Seq Scan on pgbench_branches  (cost=0.00..1.12 rows=2 width=364)\n",
      "              Filter: (bbalance < '-50000'::integer)\n"
     ]
    }
   ],
   "source": [
    "result = %sql EXPLAIN SELECT * FROM pgbench_accounts JOIN pgbench_branches USING(bid) WHERE bbalance < -50000 AND aid > 720001\n",
    "\n",
    "for row in result[\"QUERY PLAN\"]:\n",
    "    print(row)"
   ]
  },
  {
   "cell_type": "markdown",
   "metadata": {
    "slideshow": {
     "slide_type": "subslide"
    }
   },
   "source": [
    "### Optimalizátor si zkusí poskládat několik existujících indexů"
   ]
  },
  {
   "cell_type": "code",
   "execution_count": 165,
   "metadata": {
    "slideshow": {
     "slide_type": "fragment"
    }
   },
   "outputs": [
    {
     "name": "stdout",
     "output_type": "stream",
     "text": [
      " * postgresql:///dbtest\n"
     ]
    },
    {
     "data": {
      "text/html": [
       "<div>\n",
       "<table border=\"1\" class=\"dataframe\">\n",
       "  <thead>\n",
       "    <tr style=\"text-align: right;\">\n",
       "      <th></th>\n",
       "    </tr>\n",
       "  </thead>\n",
       "  <tbody>\n",
       "  </tbody>\n",
       "</table>\n",
       "</div>"
      ],
      "text/plain": [
       "Empty DataFrame\n",
       "Columns: []\n",
       "Index: []"
      ]
     },
     "execution_count": 165,
     "metadata": {},
     "output_type": "execute_result"
    }
   ],
   "source": [
    "%%sql\n",
    "CREATE INDEX IF NOT EXISTS pgbench_accounts_indexed_aid ON pgbench_accounts_indexed (aid);\n",
    "CREATE INDEX IF NOT EXISTS pgbench_accounts_indexed_bid ON pgbench_accounts_indexed (bid);"
   ]
  },
  {
   "cell_type": "code",
   "execution_count": 166,
   "metadata": {
    "slideshow": {
     "slide_type": "subslide"
    }
   },
   "outputs": [
    {
     "name": "stdout",
     "output_type": "stream",
     "text": [
      " * postgresql:///dbtest\n",
      "Nested Loop  (cost=53.74..8351.82 rows=3333 width=712)\n",
      "  ->  Seq Scan on pgbench_branches  (cost=0.00..1.12 rows=2 width=364)\n",
      "        Filter: (bbalance < '-50000'::integer)\n",
      "  ->  Bitmap Heap Scan on pgbench_accounts_indexed  (cost=53.74..4158.68 rows=1667 width=352)\n",
      "        Recheck Cond: (bid = pgbench_branches.bid)\n",
      "        Filter: (aid > 720001)\n",
      "        ->  Bitmap Index Scan on pgbench_accounts_indexed_bid  (cost=0.00..53.33 rows=5000 width=0)\n",
      "              Index Cond: (bid = pgbench_branches.bid)\n"
     ]
    }
   ],
   "source": [
    "result = %sql EXPLAIN SELECT * FROM pgbench_accounts_indexed JOIN pgbench_branches USING(bid) WHERE bbalance < -50000 AND aid > 720001\n",
    "\n",
    "for row in result[\"QUERY PLAN\"]:\n",
    "    print(row)"
   ]
  },
  {
   "cell_type": "markdown",
   "metadata": {
    "slideshow": {
     "slide_type": "subslide"
    }
   },
   "source": [
    "### Nebo může použít složený index"
   ]
  },
  {
   "cell_type": "code",
   "execution_count": 167,
   "metadata": {
    "slideshow": {
     "slide_type": "fragment"
    }
   },
   "outputs": [
    {
     "name": "stdout",
     "output_type": "stream",
     "text": [
      " * postgresql:///dbtest\n"
     ]
    },
    {
     "data": {
      "text/html": [
       "<div>\n",
       "<table border=\"1\" class=\"dataframe\">\n",
       "  <thead>\n",
       "    <tr style=\"text-align: right;\">\n",
       "      <th></th>\n",
       "    </tr>\n",
       "  </thead>\n",
       "  <tbody>\n",
       "  </tbody>\n",
       "</table>\n",
       "</div>"
      ],
      "text/plain": [
       "Empty DataFrame\n",
       "Columns: []\n",
       "Index: []"
      ]
     },
     "execution_count": 167,
     "metadata": {},
     "output_type": "execute_result"
    }
   ],
   "source": [
    "%%sql\n",
    "DROP INDEX IF EXISTS pgbench_accounts_indexed_aid;\n",
    "DROP INDEX IF EXISTS pgbench_accounts_indexed_bid;\n",
    "CREATE INDEX IF NOT EXISTS pgbench_accounts_indexed_aid_bid ON pgbench_accounts_indexed (aid, bid);"
   ]
  },
  {
   "cell_type": "code",
   "execution_count": 168,
   "metadata": {
    "slideshow": {
     "slide_type": "subslide"
    }
   },
   "outputs": [
    {
     "name": "stdout",
     "output_type": "stream",
     "text": [
      " * postgresql:///dbtest\n",
      "Nested Loop  (cost=0.42..11575.31 rows=3333 width=712)\n",
      "  ->  Seq Scan on pgbench_branches  (cost=0.00..1.12 rows=2 width=364)\n",
      "        Filter: (bbalance < '-50000'::integer)\n",
      "  ->  Index Scan using pgbench_accounts_indexed_aid_bid on pgbench_accounts_indexed  (cost=0.42..5770.43 rows=1667 width=352)\n",
      "        Index Cond: ((aid > 720001) AND (bid = pgbench_branches.bid))\n"
     ]
    }
   ],
   "source": [
    "result = %sql EXPLAIN SELECT * FROM pgbench_accounts_indexed JOIN pgbench_branches USING(bid) WHERE bbalance < -50000 AND aid > 720001\n",
    "\n",
    "for row in result[\"QUERY PLAN\"]:\n",
    "    print(row)"
   ]
  },
  {
   "cell_type": "markdown",
   "metadata": {
    "slideshow": {
     "slide_type": "subslide"
    }
   },
   "source": [
    "### Nebo použije začátek složeného indexu"
   ]
  },
  {
   "cell_type": "code",
   "execution_count": 172,
   "metadata": {
    "slideshow": {
     "slide_type": "fragment"
    }
   },
   "outputs": [
    {
     "name": "stdout",
     "output_type": "stream",
     "text": [
      " * postgresql:///dbtest\n",
      "Hash Join  (cost=3591.48..25045.69 rows=13333 width=712)\n",
      "  Hash Cond: (pgbench_accounts_indexed.bid = pgbench_branches.bid)\n",
      "  ->  Bitmap Heap Scan on pgbench_accounts_indexed  (cost=3590.26..24150.92 rows=333333 width=352)\n",
      "        Recheck Cond: (aid > 720001)\n",
      "        ->  Bitmap Index Scan on pgbench_accounts_indexed_aid_bid  (cost=0.00..3506.92 rows=333333 width=0)\n",
      "              Index Cond: (aid > 720001)\n",
      "  ->  Hash  (cost=1.12..1.12 rows=8 width=364)\n",
      "        ->  Seq Scan on pgbench_branches  (cost=0.00..1.12 rows=8 width=364)\n",
      "              Filter: (bbalance < 500000)\n"
     ]
    }
   ],
   "source": [
    "result = %sql EXPLAIN SELECT * FROM pgbench_accounts_indexed JOIN pgbench_branches USING(bid) WHERE bbalance < 500000 AND aid > 720001\n",
    "\n",
    "for row in result[\"QUERY PLAN\"]:\n",
    "    print(row)"
   ]
  },
  {
   "cell_type": "markdown",
   "metadata": {
    "slideshow": {
     "slide_type": "fragment"
    }
   },
   "source": [
    "Bitmap Index Scan on pgbench_accounts_indexed_aid_bid\n",
    "\n",
    "Index Cond: (aid > 720001)"
   ]
  },
  {
   "cell_type": "markdown",
   "metadata": {
    "slideshow": {
     "slide_type": "subslide"
    }
   },
   "source": [
    "### Ale složený index nemůže použít od konce\n",
    "(B-tree index je strom)"
   ]
  },
  {
   "cell_type": "code",
   "execution_count": 173,
   "metadata": {
    "slideshow": {
     "slide_type": "fragment"
    }
   },
   "outputs": [
    {
     "name": "stdout",
     "output_type": "stream",
     "text": [
      " * postgresql:///dbtest\n",
      "Seq Scan on pgbench_accounts_indexed  (cost=0.00..28894.00 rows=333333 width=352)\n",
      "  Filter: (bid < 10)\n"
     ]
    }
   ],
   "source": [
    "result = %sql EXPLAIN SELECT * FROM pgbench_accounts_indexed WHERE bid < 10\n",
    "\n",
    "for row in result[\"QUERY PLAN\"]:\n",
    "    print(row)"
   ]
  },
  {
   "cell_type": "markdown",
   "metadata": {
    "slideshow": {
     "slide_type": "slide"
    }
   },
   "source": [
    "# Složitější indexy\n",
    "* Přes výraz nebo volání funkce\n"
   ]
  },
  {
   "cell_type": "code",
   "execution_count": 179,
   "metadata": {
    "slideshow": {
     "slide_type": "fragment"
    }
   },
   "outputs": [
    {
     "name": "stdout",
     "output_type": "stream",
     "text": [
      " * postgresql:///dbtest\n",
      " * postgresql:///dbtest\n",
      "Seq Scan on pgbench_accounts_indexed  (cost=0.00..33894.00 rows=5000 width=352)\n",
      "  Filter: ((CASE WHEN (abalance <= 0) THEN 'no chance'::text WHEN (abalance > 10000) THEN 'oh boy!'::text ELSE 'boring'::text END)::text = 'oh boy!'::text)\n"
     ]
    }
   ],
   "source": [
    "%sql DROP INDEX IF EXISTS pgbench_accounts_indexed_function\n",
    "result = %sql EXPLAIN SELECT * FROM pgbench_accounts_indexed WHERE has_money(abalance) = 'oh boy!'\n",
    "\n",
    "for row in result[\"QUERY PLAN\"]:\n",
    "    print(row)"
   ]
  },
  {
   "cell_type": "code",
   "execution_count": 180,
   "metadata": {
    "slideshow": {
     "slide_type": "subslide"
    }
   },
   "outputs": [
    {
     "name": "stdout",
     "output_type": "stream",
     "text": [
      " * postgresql:///dbtest\n"
     ]
    },
    {
     "data": {
      "text/html": [
       "<div>\n",
       "<table border=\"1\" class=\"dataframe\">\n",
       "  <thead>\n",
       "    <tr style=\"text-align: right;\">\n",
       "      <th></th>\n",
       "    </tr>\n",
       "  </thead>\n",
       "  <tbody>\n",
       "  </tbody>\n",
       "</table>\n",
       "</div>"
      ],
      "text/plain": [
       "Empty DataFrame\n",
       "Columns: []\n",
       "Index: []"
      ]
     },
     "execution_count": 180,
     "metadata": {},
     "output_type": "execute_result"
    }
   ],
   "source": [
    "%sql CREATE INDEX pgbench_accounts_indexed_function ON pgbench_accounts_indexed (has_money(abalance))"
   ]
  },
  {
   "cell_type": "code",
   "execution_count": 182,
   "metadata": {
    "slideshow": {
     "slide_type": "fragment"
    }
   },
   "outputs": [
    {
     "name": "stdout",
     "output_type": "stream",
     "text": [
      " * postgresql:///dbtest\n",
      "Bitmap Heap Scan on pgbench_accounts_indexed  (cost=60.08..4697.25 rows=5000 width=352)\n",
      "  Recheck Cond: (CASE WHEN (abalance <= 0) THEN 'no chance'::text WHEN (abalance > 10000) THEN 'oh boy!'::text ELSE 'boring'::text END = 'oh boy!'::text)\n",
      "  ->  Bitmap Index Scan on pgbench_accounts_indexed_function  (cost=0.00..58.83 rows=5000 width=0)\n",
      "        Index Cond: (CASE WHEN (abalance <= 0) THEN 'no chance'::text WHEN (abalance > 10000) THEN 'oh boy!'::text ELSE 'boring'::text END = 'oh boy!'::text)\n"
     ]
    }
   ],
   "source": [
    "result = %sql EXPLAIN SELECT * FROM pgbench_accounts_indexed WHERE has_money(abalance) = 'oh boy!'\n",
    "\n",
    "for row in result[\"QUERY PLAN\"]:\n",
    "    print(row)"
   ]
  },
  {
   "cell_type": "markdown",
   "metadata": {
    "slideshow": {
     "slide_type": "subslide"
    }
   },
   "source": [
    "### Optimalizátor nepracuje nutně s funkcí, ale s výrezem, kterým je definována"
   ]
  },
  {
   "cell_type": "code",
   "execution_count": 184,
   "metadata": {
    "slideshow": {
     "slide_type": "fragment"
    }
   },
   "outputs": [
    {
     "name": "stdout",
     "output_type": "stream",
     "text": [
      " * postgresql:///dbtest\n",
      "Bitmap Heap Scan on pgbench_accounts_indexed  (cost=60.08..4697.25 rows=5000 width=352)\n",
      "  Recheck Cond: (CASE WHEN (abalance <= 0) THEN 'no chance'::text WHEN (abalance > 10000) THEN 'oh boy!'::text ELSE 'boring'::text END = 'oh boy!'::text)\n",
      "  ->  Bitmap Index Scan on pgbench_accounts_indexed_function  (cost=0.00..58.83 rows=5000 width=0)\n",
      "        Index Cond: (CASE WHEN (abalance <= 0) THEN 'no chance'::text WHEN (abalance > 10000) THEN 'oh boy!'::text ELSE 'boring'::text END = 'oh boy!'::text)\n"
     ]
    }
   ],
   "source": [
    "result = %sql EXPLAIN SELECT * FROM pgbench_accounts_indexed WHERE ((CASE WHEN (abalance <= 0) THEN 'no chance'::text WHEN (abalance > 10000) THEN 'oh boy!'::text ELSE 'boring'::text END)::text = 'oh boy!'::text)\n",
    "\n",
    "for row in result[\"QUERY PLAN\"]:\n",
    "    print(row)"
   ]
  },
  {
   "cell_type": "markdown",
   "metadata": {
    "slideshow": {
     "slide_type": "slide"
    }
   },
   "source": [
    "# Paralelismus"
   ]
  },
  {
   "cell_type": "code",
   "execution_count": 42,
   "metadata": {
    "scrolled": true,
    "slideshow": {
     "slide_type": "fragment"
    }
   },
   "outputs": [
    {
     "name": "stdout",
     "output_type": "stream",
     "text": [
      " * postgresql:///dbtest\n",
      "Finalize Aggregate  (cost=22879.57..22879.58 rows=1 width=8) (actual time=43.819..43.819 rows=1 loops=1)\n",
      "  ->  Gather  (cost=22879.36..22879.57 rows=2 width=8) (actual time=43.765..48.247 rows=3 loops=1)\n",
      "        Workers Planned: 2\n",
      "        Workers Launched: 2\n",
      "        ->  Partial Aggregate  (cost=21879.36..21879.37 rows=1 width=8) (actual time=41.217..41.218 rows=1 loops=3)\n",
      "              ->  Parallel Seq Scan on pgbench_accounts  (cost=0.00..21879.33 rows=10 width=0) (actual time=41.213..41.213 rows=0 loops=3)\n",
      "                    Filter: (abalance > 999999999)\n",
      "                    Rows Removed by Filter: 333333\n",
      "Planning time: 0.071 ms\n",
      "Execution time: 48.293 ms\n"
     ]
    }
   ],
   "source": [
    "result = %sql EXPLAIN ANALYZE SELECT COUNT(*) FROM pgbench_accounts WHERE abalance > 999999999\n",
    "for row in result[\"QUERY PLAN\"]:\n",
    "    print(row)"
   ]
  },
  {
   "cell_type": "markdown",
   "metadata": {
    "slideshow": {
     "slide_type": "slide"
    }
   },
   "source": [
    "# Problémy, které jsme měli    "
   ]
  },
  {
   "cell_type": "markdown",
   "metadata": {
    "slideshow": {
     "slide_type": "fragment"
    }
   },
   "source": [
    "* Dotaz, který dříve fungoval dobře je najednou ukrutně pomalý. Změnil se query plan.\n",
    "    * Tabulka se změnila, ale Postgres nestihl ještě sám udělat `ANALYZE`."
   ]
  },
  {
   "cell_type": "markdown",
   "metadata": {
    "slideshow": {
     "slide_type": "fragment"
    }
   },
   "source": [
    "* V EXPLAIN se objeví **drahá** \"nested loop\".\n",
    "    * Může znamenat, že optimalizátor už neví kudy kam.\n",
    "    * Problém byl v tom, že někdy má `ANALYZE` problém odhadnout distribuci hodnot.\n",
    "        * Tabulka předchozích nákupů - mnoho opakování."
   ]
  },
  {
   "cell_type": "markdown",
   "metadata": {
    "slideshow": {
     "slide_type": "fragment"
    }
   },
   "source": [
    "* Chybějící indexy"
   ]
  },
  {
   "cell_type": "markdown",
   "metadata": {
    "slideshow": {
     "slide_type": "fragment"
    }
   },
   "source": [
    "* Výpočet na několik kroků\n",
    "    * Optimalizace vizualizace grafů v adminovi\n",
    "    * Nejdřív spočítat matici spojení, pak ji projít a vytvořit graf.\n",
    "    * Mezivýsledek se uloží do dočasné tabulky a naindexuje se."
   ]
  },
  {
   "cell_type": "markdown",
   "metadata": {
    "slideshow": {
     "slide_type": "slide"
    }
   },
   "source": [
    "# Strukturování kódu\n",
    "\n",
    "* Skládejte z menších celků\n",
    "    * VIEW, FUNCTION\n",
    "        * Optimalizátor si poradí\n",
    "        * Když si neporadí, uvidíte drahou část `EXPLAIN`\n",
    "    * Pozor na `WITH` - zlepšuje čitelnost, ale většinou je \"optimalizační bariérou\"\n",
    "\n",
    "* Testujte menší celky\n",
    "* Konzistentní pojmenování\n",
    "    * Jedno jméno proměnné má vždy znamenat to stejné\n",
    "    * Jedna věc by se (ideálně) měla vždy jmenovat stejně\n",
    "* Automatické testy?"
   ]
  },
  {
   "cell_type": "markdown",
   "metadata": {
    "slideshow": {
     "slide_type": "slide"
    }
   },
   "source": [
    "# Čtení složitého `EXPLAIN`\n",
    "\n",
    "1. Najít drahé operace\n",
    "2. Rozdělit na části\n",
    "3. Představit si, jak by se dal výsledek spočítat"
   ]
  },
  {
   "cell_type": "code",
   "execution_count": null,
   "metadata": {},
   "outputs": [],
   "source": []
  }
 ],
 "metadata": {
  "celltoolbar": "Slideshow",
  "kernelspec": {
   "display_name": "Python 3",
   "language": "python",
   "name": "python3"
  },
  "language_info": {
   "codemirror_mode": {
    "name": "ipython",
    "version": 3
   },
   "file_extension": ".py",
   "mimetype": "text/x-python",
   "name": "python",
   "nbconvert_exporter": "python",
   "pygments_lexer": "ipython3",
   "version": "3.6.3"
  }
 },
 "nbformat": 4,
 "nbformat_minor": 2
}
